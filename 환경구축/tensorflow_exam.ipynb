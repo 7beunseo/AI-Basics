{
 "nbformat": 4,
 "nbformat_minor": 0,
 "metadata": {
  "colab": {
   "provenance": [],
   "gpuType": "T4",
   "authorship_tag": "ABX9TyPlwTSc2efSoHXFZCHC7PI/"
  },
  "kernelspec": {
   "name": "python3",
   "display_name": "Python 3 (ipykernel)",
   "language": "python"
  },
  "language_info": {
   "name": "python"
  },
  "accelerator": "GPU"
 },
 "cells": [
  {
   "cell_type": "code",
   "metadata": {
    "id": "RMiIM7ysd5KT",
    "executionInfo": {
     "status": "ok",
     "timestamp": 1725985056435,
     "user_tz": -540,
     "elapsed": 13103,
     "user": {
      "displayName": "SooHyun Wang",
      "userId": "06792308750907494565"
     }
    },
    "ExecuteTime": {
     "end_time": "2024-09-10T16:56:50.763281Z",
     "start_time": "2024-09-10T16:56:41.372965Z"
    }
   },
   "source": [
    "# TensorFlow와 Keras 불러오기\n",
    "import tensorflow as tf\n",
    "from tensorflow.keras import layers, models\n",
    "from tensorflow.keras.datasets import mnist\n",
    "import matplotlib.pyplot as plt\n"
   ],
   "outputs": [],
   "execution_count": 1
  },
  {
   "cell_type": "code",
   "source": [
    "# MNIST 데이터셋 불러오기\n",
    "(x_train, y_train), (x_test, y_test) = mnist.load_data()\n",
    "\n",
    "# 데이터 전처리 (0-255 범위를 0-1 범위로 변환)\n",
    "x_train = x_train / 255.0\n",
    "x_test = x_test / 255.0"
   ],
   "metadata": {
    "colab": {
     "base_uri": "https://localhost:8080/"
    },
    "id": "0hBvG1AkuQ5V",
    "executionInfo": {
     "status": "ok",
     "timestamp": 1725985063168,
     "user_tz": -540,
     "elapsed": 3434,
     "user": {
      "displayName": "SooHyun Wang",
      "userId": "06792308750907494565"
     }
    },
    "outputId": "e4b64997-52cf-44a3-cb52-37babb3cdca4",
    "ExecuteTime": {
     "end_time": "2024-09-10T16:56:51.035630Z",
     "start_time": "2024-09-10T16:56:50.781397Z"
    }
   },
   "outputs": [],
   "execution_count": 2
  },
  {
   "cell_type": "code",
   "source": [
    "# 간단한 신경망 모델 만들기\n",
    "model = models.Sequential([\n",
    "    layers.Flatten(input_shape=(28, 28)), # 28x28 이미지를 1차원 배열로 변환\n",
    "    layers.Dense(128, activation='relu'), # 은닉층\n",
    "    layers.Dense(10, activation='softmax') # 출력층 (0-9 숫자 분류)\n",
    "])"
   ],
   "metadata": {
    "colab": {
     "base_uri": "https://localhost:8080/"
    },
    "id": "wRupYyxguSoD",
    "executionInfo": {
     "status": "ok",
     "timestamp": 1725985066375,
     "user_tz": -540,
     "elapsed": 396,
     "user": {
      "displayName": "SooHyun Wang",
      "userId": "06792308750907494565"
     }
    },
    "outputId": "60ec502d-2c6a-43ec-8d0f-556ccc39597e",
    "ExecuteTime": {
     "end_time": "2024-09-10T16:56:51.189919Z",
     "start_time": "2024-09-10T16:56:51.150017Z"
    }
   },
   "outputs": [
    {
     "name": "stderr",
     "output_type": "stream",
     "text": [
      "C:\\Users\\08shw\\anaconda3\\Lib\\site-packages\\keras\\src\\layers\\reshaping\\flatten.py:37: UserWarning: Do not pass an `input_shape`/`input_dim` argument to a layer. When using Sequential models, prefer using an `Input(shape)` object as the first layer in the model instead.\n",
      "  super().__init__(**kwargs)\n"
     ]
    }
   ],
   "execution_count": 3
  },
  {
   "cell_type": "code",
   "source": [
    "# 모델 컴파일\n",
    "model.compile(optimizer='adam',\n",
    "              loss='sparse_categorical_crossentropy',\n",
    "              metrics=['accuracy'])\n",
    "\n",
    "# 모델 학습\n",
    "model.fit(x_train, y_train, epochs=5)\n",
    "\n",
    "# 모델 평가\n",
    "test_loss, test_acc = model.evaluate(x_test, y_test)"
   ],
   "metadata": {
    "colab": {
     "base_uri": "https://localhost:8080/"
    },
    "id": "wX7sSfNjuUDM",
    "executionInfo": {
     "status": "ok",
     "timestamp": 1725985133261,
     "user_tz": -540,
     "elapsed": 61275,
     "user": {
      "displayName": "SooHyun Wang",
      "userId": "06792308750907494565"
     }
    },
    "outputId": "ff465edf-30a6-4043-fe77-0c855acb3e5c",
    "ExecuteTime": {
     "end_time": "2024-09-10T16:56:59.953604Z",
     "start_time": "2024-09-10T16:56:51.314015Z"
    }
   },
   "outputs": [
    {
     "name": "stdout",
     "output_type": "stream",
     "text": [
      "Epoch 1/5\n",
      "\u001B[1m1875/1875\u001B[0m \u001B[32m━━━━━━━━━━━━━━━━━━━━\u001B[0m\u001B[37m\u001B[0m \u001B[1m2s\u001B[0m 811us/step - accuracy: 0.8730 - loss: 0.4388\n",
      "Epoch 2/5\n",
      "\u001B[1m1875/1875\u001B[0m \u001B[32m━━━━━━━━━━━━━━━━━━━━\u001B[0m\u001B[37m\u001B[0m \u001B[1m2s\u001B[0m 792us/step - accuracy: 0.9641 - loss: 0.1219\n",
      "Epoch 3/5\n",
      "\u001B[1m1875/1875\u001B[0m \u001B[32m━━━━━━━━━━━━━━━━━━━━\u001B[0m\u001B[37m\u001B[0m \u001B[1m2s\u001B[0m 800us/step - accuracy: 0.9760 - loss: 0.0793\n",
      "Epoch 4/5\n",
      "\u001B[1m1875/1875\u001B[0m \u001B[32m━━━━━━━━━━━━━━━━━━━━\u001B[0m\u001B[37m\u001B[0m \u001B[1m2s\u001B[0m 803us/step - accuracy: 0.9827 - loss: 0.0570\n",
      "Epoch 5/5\n",
      "\u001B[1m1875/1875\u001B[0m \u001B[32m━━━━━━━━━━━━━━━━━━━━\u001B[0m\u001B[37m\u001B[0m \u001B[1m2s\u001B[0m 795us/step - accuracy: 0.9862 - loss: 0.0424\n",
      "\u001B[1m313/313\u001B[0m \u001B[32m━━━━━━━━━━━━━━━━━━━━\u001B[0m\u001B[37m\u001B[0m \u001B[1m0s\u001B[0m 469us/step - accuracy: 0.9690 - loss: 0.0995\n"
     ]
    }
   ],
   "execution_count": 4
  },
  {
   "cell_type": "code",
   "source": [
    "print(f'\\n테스트 정확도: {test_acc}')\n",
    "\n",
    "# 예측한 결과 시각화\n",
    "predictions = model.predict(x_test)\n",
    "\n",
    "# 첫 번째 이미지 출력 및 예측 결과\n",
    "plt.figure(figsize=(5,5))\n",
    "plt.imshow(x_test[0], cmap='gray')\n",
    "plt.title(f'Predicted: {predictions[0].argmax()}, Actual: {y_test[0]}')\n",
    "plt.show()"
   ],
   "metadata": {
    "colab": {
     "base_uri": "https://localhost:8080/",
     "height": 523
    },
    "id": "-gC1L4WpuWCM",
    "executionInfo": {
     "status": "ok",
     "timestamp": 1725985137472,
     "user_tz": -540,
     "elapsed": 2001,
     "user": {
      "displayName": "SooHyun Wang",
      "userId": "06792308750907494565"
     }
    },
    "outputId": "eb997e6c-186c-4c58-dea8-8479942e0556",
    "ExecuteTime": {
     "end_time": "2024-09-10T16:57:03.373845Z",
     "start_time": "2024-09-10T16:57:02.842445Z"
    }
   },
   "outputs": [
    {
     "name": "stdout",
     "output_type": "stream",
     "text": [
      "\n",
      "테스트 정확도: 0.9750000238418579\n",
      "\u001B[1m313/313\u001B[0m \u001B[32m━━━━━━━━━━━━━━━━━━━━\u001B[0m\u001B[37m\u001B[0m \u001B[1m0s\u001B[0m 589us/step\n"
     ]
    },
    {
     "data": {
      "text/plain": [
       "<Figure size 500x500 with 1 Axes>"
      ],
      "image/png": "[encoded data removed]"
     },
     "metadata": {},
     "output_type": "display_data"
    }
   ],
   "execution_count": 5
  }
 ]
}
